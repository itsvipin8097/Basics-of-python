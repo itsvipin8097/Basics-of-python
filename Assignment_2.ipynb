{
  "nbformat": 4,
  "nbformat_minor": 0,
  "metadata": {
    "colab": {
      "provenance": []
    },
    "kernelspec": {
      "name": "python3",
      "display_name": "Python 3"
    },
    "language_info": {
      "name": "python"
    }
  },
  "cells": [
    {
      "cell_type": "markdown",
      "source": [
        "Q1. How do you comment code in Python? What are the different types of comments?"
      ],
      "metadata": {
        "id": "Ax2EAJgaro4t"
      }
    },
    {
      "cell_type": "markdown",
      "source": [
        "Ans: There are three types of comments in Python:\n",
        "\n",
        "  Single line Comments\n",
        "\n",
        "   Multiline Comments\n",
        "\n",
        "   Docstring Comments\n",
        "\n",
        "   Comments in Python are the lines in the code that are ignored by the interpreter during the execution of the program. Comments enhance the readability of the code and help the programmers to understand the code very carefully."
      ],
      "metadata": {
        "id": "2OJWsfY_spAy"
      }
    },
    {
      "cell_type": "code",
      "source": [
        "#single line comment\n"
      ],
      "metadata": {
        "id": "mFK3tCi_tPan"
      },
      "execution_count": null,
      "outputs": []
    },
    {
      "cell_type": "code",
      "source": [
        "#multiple line comment using multiple \"#\"\n",
        "#This is also one of way we can write comment\n",
        "# Hello Python"
      ],
      "metadata": {
        "id": "Gs3KNx-ttqNh"
      },
      "execution_count": null,
      "outputs": []
    },
    {
      "cell_type": "code",
      "source": [
        "'''hello this is docstring comment this is also\n",
        "known  as multi line comment.\n",
        "use triple quotation marks for multi-line strings'''"
      ],
      "metadata": {
        "id": "1MqU5ZEGuBIO"
      },
      "execution_count": null,
      "outputs": []
    },
    {
      "cell_type": "markdown",
      "source": [
        "Q2. What are variables in Python? How do you declare and assign values to variables?"
      ],
      "metadata": {
        "id": "AtNrDT4zu0aS"
      }
    },
    {
      "cell_type": "markdown",
      "source": [
        "Ans: Python is a dynamic-typed language, which means we don't need to mention the variable type or declare before using it. It makes to Python the most efficient and easy to use language. Every variable is treated as an object in Python.\n",
        "\n",
        "When programming, it is useful to be able to store information in variables. A variable is a string of characters and numbers associated with a piece of information. The assignment operator, denoted by the “=” symbol, is the operator that is used to assign values to variables in Python. The line x=1 takes the known value, 1, and assigns that value to the variable with name “x”.\n",
        "\n",
        "**Before declaring a variable, we must follow the given rules.**\n",
        "\n",
        "1.The first character of the variable can be an alphabet or (_) underscore.\n",
        "\n",
        "2.Special characters (@, #, %, ^, &, *) should not be used in variable name.\n",
        "\n",
        "3.Variable names are case sensitive. For example - age and AGE are two different variables.\n",
        "\n",
        "4.Reserve words cannot be declared as variables.\n",
        "Let's understand the declaration of a few basic variables."
      ],
      "metadata": {
        "id": "lMtglaETvWYg"
      }
    },
    {
      "cell_type": "code",
      "source": [
        "A=12      #A is a variable which holding a numeric value 12\n",
        "B='VIPIN' #B is a variable which is holding a string value VIPIN\n",
        "C=234.33  #c Is a Variable which is holding a float value 234.33\n",
        "\n",
        "print(A)\n",
        "print(B)\n",
        "print(C)"
      ],
      "metadata": {
        "colab": {
          "base_uri": "https://localhost:8080/"
        },
        "id": "X5GRkMD7u2zO",
        "outputId": "0625ef67-cdd1-4b9f-cd75-43e427a0360f"
      },
      "execution_count": 20,
      "outputs": [
        {
          "output_type": "stream",
          "name": "stdout",
          "text": [
            "12\n",
            "VIPIN\n",
            "234.33\n"
          ]
        }
      ]
    },
    {
      "cell_type": "markdown",
      "source": [
        "Q3. How do you convert one data type to another in Python?"
      ],
      "metadata": {
        "id": "ojk4ngD_xrkY"
      }
    },
    {
      "cell_type": "code",
      "source": [
        "A1=12\n",
        "B1=12.344\n",
        "print(type(A1))\n",
        "print(type(B1))"
      ],
      "metadata": {
        "colab": {
          "base_uri": "https://localhost:8080/"
        },
        "id": "onuLb3Crw_G6",
        "outputId": "b82c5704-f4bc-445e-d758-8373c21b7495"
      },
      "execution_count": 18,
      "outputs": [
        {
          "output_type": "stream",
          "name": "stdout",
          "text": [
            "<class 'int'>\n",
            "<class 'float'>\n"
          ]
        }
      ]
    },
    {
      "cell_type": "code",
      "source": [
        "A1=float(A1)\n",
        "B1=int(B1)\n",
        "C1=str(A1)"
      ],
      "metadata": {
        "id": "E6bd5A7NxxNS"
      },
      "execution_count": 19,
      "outputs": []
    },
    {
      "cell_type": "markdown",
      "source": [
        "Q4. How do you write and execute a Python script from the command line?"
      ],
      "metadata": {
        "id": "kBA-WCipzjXF"
      }
    },
    {
      "cell_type": "markdown",
      "source": [
        "Ans:  we first have to check whether a python interpreter is installed on the system or not. So in windows, open ‘cmd’ (Command Prompt) and type the following command\n",
        "\n",
        "python -V\n",
        "This command will give the version number of the Python interpreter installed or will display an error if otherwise.\n",
        "\n",
        "It’s quite easy to run Python scripts from the command line.\n",
        "\n",
        "Verify your terminal or command prompt can run Python\n",
        "\n",
        "Create a Python script that is error-free\n",
        "\n",
        "Use python your/file/name.py to run your script from the terminal\n",
        "\n",
        "Command Line\n",
        "To run a Python script store in a ‘.py’ file in command line, we have to write ‘python’ keyword before the file name in the command prompt.\n",
        "python hello.py\n",
        "You can write your own file name in place of ‘hello.py’."
      ],
      "metadata": {
        "id": "Vi2IAuhxz8zd"
      }
    },
    {
      "cell_type": "markdown",
      "source": [
        "Q5. Given a list my_list = [1, 2, 3, 4, 5], write the code to slice the list and obtain the sub-list [2, 3]."
      ],
      "metadata": {
        "id": "qf9XgFjj2ABB"
      }
    },
    {
      "cell_type": "code",
      "source": [
        "my_list = [1, 2, 3, 4, 5]\n",
        "\n",
        "my_list[1:3]\n"
      ],
      "metadata": {
        "colab": {
          "base_uri": "https://localhost:8080/"
        },
        "id": "QtR-c855yPj_",
        "outputId": "3d834568-60e3-43a8-bd33-acb775fad38a"
      },
      "execution_count": 21,
      "outputs": [
        {
          "output_type": "execute_result",
          "data": {
            "text/plain": [
              "[2, 3]"
            ]
          },
          "metadata": {},
          "execution_count": 21
        }
      ]
    },
    {
      "cell_type": "markdown",
      "source": [
        "Q6. What is a complex number in mathematics, and how is it represented in Python?"
      ],
      "metadata": {
        "id": "U_AdLFEU2Pnq"
      }
    },
    {
      "cell_type": "markdown",
      "source": [
        "Ans: Not only real numbers, Python can also handle complex numbers and its associated functions using the file “cmath”. Complex numbers have their uses in many applications related to mathematics and python provides useful tools to handle and manipulate them. Converting real numbers to complex number An complex number is represented by “ x + yi “. Python converts the real numbers x and y into complex using the function complex(x,y). The real part can be accessed using the function real() and imaginary part can be represented by imag(). "
      ],
      "metadata": {
        "id": "IzKUtnUJ2d-a"
      }
    },
    {
      "cell_type": "code",
      "source": [
        "# Way of declaring complex number\n",
        "Complex_num = 4+5j\n",
        "type(Complex_num)"
      ],
      "metadata": {
        "colab": {
          "base_uri": "https://localhost:8080/"
        },
        "id": "gFJ2ayqS2N2G",
        "outputId": "9d009cc2-c1a6-4d0b-cdd0-939f00df5d02"
      },
      "execution_count": 23,
      "outputs": [
        {
          "output_type": "execute_result",
          "data": {
            "text/plain": [
              "complex"
            ]
          },
          "metadata": {},
          "execution_count": 23
        }
      ]
    },
    {
      "cell_type": "markdown",
      "source": [
        "Q7. What is the correct way to declare a variable named age and assign the value 25 to it?"
      ],
      "metadata": {
        "id": "Yh1VckId244h"
      }
    },
    {
      "cell_type": "code",
      "source": [
        "# firstly we have to creat a variable and assign value 25\n",
        "# we can also take input from user as age\n",
        "Age=25\n",
        "User_age=int(input('enter your age: '))\n"
      ],
      "metadata": {
        "colab": {
          "base_uri": "https://localhost:8080/"
        },
        "id": "GC-_9Skm2upP",
        "outputId": "afa30d8a-a498-453d-90dd-5573431b48c1"
      },
      "execution_count": 25,
      "outputs": [
        {
          "name": "stdout",
          "output_type": "stream",
          "text": [
            "enter your age: 25\n"
          ]
        }
      ]
    },
    {
      "cell_type": "markdown",
      "source": [
        "Q8. Declare a variable named price and assign the value 9.99 to it. What data type does this variable\n",
        "belong to?"
      ],
      "metadata": {
        "id": "rzXiidAr3gXO"
      }
    },
    {
      "cell_type": "code",
      "source": [
        "Price=9.99\n",
        "\n",
        "type(Price) #this is float data type"
      ],
      "metadata": {
        "colab": {
          "base_uri": "https://localhost:8080/"
        },
        "id": "yyY50sI73V0F",
        "outputId": "1fc44da1-b0fa-4311-b5fd-24f670686399"
      },
      "execution_count": 29,
      "outputs": [
        {
          "output_type": "execute_result",
          "data": {
            "text/plain": [
              "float"
            ]
          },
          "metadata": {},
          "execution_count": 29
        }
      ]
    },
    {
      "cell_type": "markdown",
      "source": [
        "Q9. Create a variable named name and assign your full name to it as a string. How would you print the\n",
        "value of this variable?"
      ],
      "metadata": {
        "id": "MUe_ifnN3xbT"
      }
    },
    {
      "cell_type": "code",
      "source": [
        "name='Vipin Yadav'\n",
        "\n",
        "print(name)"
      ],
      "metadata": {
        "colab": {
          "base_uri": "https://localhost:8080/"
        },
        "id": "mXDsiDvl3oFN",
        "outputId": "a343bcba-107c-49e2-9dc3-c35eb92835ba"
      },
      "execution_count": 30,
      "outputs": [
        {
          "output_type": "stream",
          "name": "stdout",
          "text": [
            "Vipin Yadav\n"
          ]
        }
      ]
    },
    {
      "cell_type": "markdown",
      "source": [
        "Q10. Given the string \"Hello, World!\", extract the substring \"World\"."
      ],
      "metadata": {
        "id": "-ISKzOuh3-vQ"
      }
    },
    {
      "cell_type": "code",
      "source": [
        "S= \"Hello, World!\"\n",
        "S[7:12]\n",
        "S[]"
      ],
      "metadata": {
        "colab": {
          "base_uri": "https://localhost:8080/",
          "height": 35
        },
        "id": "oE2-Jgh5380c",
        "outputId": "06f09494-ff04-4ee5-c989-d9aec1c1caa2"
      },
      "execution_count": 38,
      "outputs": [
        {
          "output_type": "execute_result",
          "data": {
            "text/plain": [
              "'World'"
            ],
            "application/vnd.google.colaboratory.intrinsic+json": {
              "type": "string"
            }
          },
          "metadata": {},
          "execution_count": 38
        }
      ]
    },
    {
      "cell_type": "markdown",
      "source": [
        "Q11. Create a variable named \"is_student\" and assign it a boolean value indicating whether you are\n",
        "currently a student or not.\n",
        "\n",
        "\n"
      ],
      "metadata": {
        "id": "yAUta5b65aMY"
      }
    },
    {
      "cell_type": "code",
      "source": [
        "is_student= True\n",
        "\n",
        "if is_student == True:\n",
        "  print(\"you are currently a student\")\n",
        "else:\n",
        "  print(\"you are not a student\")"
      ],
      "metadata": {
        "colab": {
          "base_uri": "https://localhost:8080/"
        },
        "id": "gSWsVkSO4KZ5",
        "outputId": "138ab097-cdfe-45cd-e680-4d1d496b19a7"
      },
      "execution_count": 49,
      "outputs": [
        {
          "output_type": "stream",
          "name": "stdout",
          "text": [
            "you are currently a student\n"
          ]
        }
      ]
    },
    {
      "cell_type": "code",
      "source": [
        "is_student= False\n",
        "\n",
        "if is_student == True:\n",
        "  print(\"you are currently a student\")\n",
        "else:\n",
        "  print(\"you are not a student\")"
      ],
      "metadata": {
        "colab": {
          "base_uri": "https://localhost:8080/"
        },
        "id": "XzEoQlOt427I",
        "outputId": "ccdf8be2-9713-4b21-ab1b-59b24b57e7e9"
      },
      "execution_count": 48,
      "outputs": [
        {
          "output_type": "stream",
          "name": "stdout",
          "text": [
            "you are not a student\n"
          ]
        }
      ]
    }
  ]
}