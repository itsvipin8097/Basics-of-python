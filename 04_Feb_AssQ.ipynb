{
  "nbformat": 4,
  "nbformat_minor": 0,
  "metadata": {
    "colab": {
      "provenance": []
    },
    "kernelspec": {
      "name": "python3",
      "display_name": "Python 3"
    },
    "language_info": {
      "name": "python"
    }
  },
  "cells": [
    {
      "cell_type": "markdown",
      "source": [
        "Q1. Create a python program to sort the given list of tuples based on integer value using a\n",
        "lambda function."
      ],
      "metadata": {
        "id": "fknazxToTfCG"
      }
    },
    {
      "cell_type": "code",
      "execution_count": 3,
      "metadata": {
        "id": "h9NoNrrFTUhu"
      },
      "outputs": [],
      "source": [
        "a=[('Sachin Tendulkar', 34357), ('Ricky Ponting', 27483), ('Jack Kallis', 25534), ('Virat Kohli', 24936)]\n",
        "newList = sorted(a, key = lambda x : x[1],reverse=True)"
      ]
    },
    {
      "cell_type": "code",
      "source": [
        "newList"
      ],
      "metadata": {
        "colab": {
          "base_uri": "https://localhost:8080/"
        },
        "id": "_-Sdmu6cUoeB",
        "outputId": "46fd3970-2a2e-46d8-8544-6788ded43664"
      },
      "execution_count": 4,
      "outputs": [
        {
          "output_type": "execute_result",
          "data": {
            "text/plain": [
              "[('Sachin Tendulkar', 34357),\n",
              " ('Ricky Ponting', 27483),\n",
              " ('Jack Kallis', 25534),\n",
              " ('Virat Kohli', 24936)]"
            ]
          },
          "metadata": {},
          "execution_count": 4
        }
      ]
    },
    {
      "cell_type": "markdown",
      "source": [
        "Q2. Write a Python Program to find the squares of all the numbers in the given list of integers using\n",
        "lambda and map functions."
      ],
      "metadata": {
        "id": "OY6rJ15SU6wZ"
      }
    },
    {
      "cell_type": "code",
      "source": [
        "a=[1, 2, 3, 4, 5, 6, 7, 8, 9, 10]\n",
        "Y= list(map(lambda x: x*x, a))\n"
      ],
      "metadata": {
        "id": "61iG7GGbUskR"
      },
      "execution_count": 15,
      "outputs": []
    },
    {
      "cell_type": "code",
      "source": [
        "Y"
      ],
      "metadata": {
        "colab": {
          "base_uri": "https://localhost:8080/"
        },
        "id": "pwV-K6TrVfw0",
        "outputId": "90c81351-6053-4853-aaba-fc61d6390007"
      },
      "execution_count": 16,
      "outputs": [
        {
          "output_type": "execute_result",
          "data": {
            "text/plain": [
              "[1, 4, 9, 16, 25, 36, 49, 64, 81, 100]"
            ]
          },
          "metadata": {},
          "execution_count": 16
        }
      ]
    },
    {
      "cell_type": "markdown",
      "source": [
        "Q3. Write a python program to convert the given list of integers into a tuple of strings. Use map and\n",
        "lambda functions"
      ],
      "metadata": {
        "id": "AcR3qb0zXyM9"
      }
    },
    {
      "cell_type": "code",
      "source": [
        "A=[1, 2, 3, 4, 5, 6, 7, 8, 9, 10]\n",
        "B=tuple(map(lambda x: str(x),A))"
      ],
      "metadata": {
        "id": "jSvhlKkUVhpl"
      },
      "execution_count": 19,
      "outputs": []
    },
    {
      "cell_type": "code",
      "source": [
        "B"
      ],
      "metadata": {
        "colab": {
          "base_uri": "https://localhost:8080/"
        },
        "id": "wrYKUSoNYIVl",
        "outputId": "f2799246-00ab-43b7-962f-e5cd59c80d30"
      },
      "execution_count": 20,
      "outputs": [
        {
          "output_type": "execute_result",
          "data": {
            "text/plain": [
              "('1', '2', '3', '4', '5', '6', '7', '8', '9', '10')"
            ]
          },
          "metadata": {},
          "execution_count": 20
        }
      ]
    },
    {
      "cell_type": "markdown",
      "source": [
        "Q4. Write a python program using reduce function to compute the product of a list containing numbers\n",
        "from 1 to 25."
      ],
      "metadata": {
        "id": "vA16lMwLYaSp"
      }
    },
    {
      "cell_type": "code",
      "source": [
        "from functools import reduce\n",
        "nums=[]\n",
        "for i in range(1,26):\n",
        "  nums.append(i)\n",
        "nums_product = reduce( (lambda x, y: x * y), nums)\n",
        "\n",
        "nums_product"
      ],
      "metadata": {
        "colab": {
          "base_uri": "https://localhost:8080/"
        },
        "id": "uICymxE4YXls",
        "outputId": "b5281eb9-b87b-432e-a3de-64b05ef92986"
      },
      "execution_count": 7,
      "outputs": [
        {
          "output_type": "execute_result",
          "data": {
            "text/plain": [
              "15511210043330985984000000"
            ]
          },
          "metadata": {},
          "execution_count": 7
        }
      ]
    },
    {
      "cell_type": "markdown",
      "source": [
        "Q5. Write a python program to filter the numbers in a given list that are divisible by 2 and 3 using the\n",
        "filter function."
      ],
      "metadata": {
        "id": "Ie1ofjLVAfRO"
      }
    },
    {
      "cell_type": "code",
      "source": [
        "num1=[2, 3, 6, 9, 27, 60, 90, 120, 55, 46]\n",
        "result = list(filter(lambda x: (x % 2 == 0) and (x % 3 == 0), num1))\n",
        "print(\"Numbers divisible by 2 and 3 are\",result)"
      ],
      "metadata": {
        "colab": {
          "base_uri": "https://localhost:8080/"
        },
        "id": "zDnTxLHkBrQS",
        "outputId": "095ccf46-cb3d-4c4d-d459-a8f52e46faf3"
      },
      "execution_count": 13,
      "outputs": [
        {
          "output_type": "stream",
          "name": "stdout",
          "text": [
            "Numbers divisible by 2 and 3 are [6, 60, 90, 120]\n"
          ]
        }
      ]
    },
    {
      "cell_type": "code",
      "source": [
        "num1=[2, 3, 6, 9, 27, 60, 90, 120, 55, 46]\n",
        "op=[]\n",
        "for i in num1:\n",
        "  if i%2==0 and i%3==0:\n",
        "    op.append(i)\n",
        "\n",
        "print(op)"
      ],
      "metadata": {
        "colab": {
          "base_uri": "https://localhost:8080/"
        },
        "id": "BFlVBWhnADAQ",
        "outputId": "a3abd8de-1243-4601-c5d6-8fb1d379b7c7"
      },
      "execution_count": 10,
      "outputs": [
        {
          "output_type": "stream",
          "name": "stdout",
          "text": [
            "[6, 60, 90, 120]\n"
          ]
        }
      ]
    },
    {
      "cell_type": "markdown",
      "source": [
        "Q6. Write a python program to find palindromes in the given list of strings using lambda and filter\n",
        "function."
      ],
      "metadata": {
        "id": "DlFKQYQ8Bu8f"
      }
    },
    {
      "cell_type": "code",
      "source": [
        "list1= ['python', 'php', 'aba', 'radar', 'level']\n",
        "result = list(filter(lambda x: (x == \"\".join(reversed(x))), list1))\n",
        "result"
      ],
      "metadata": {
        "colab": {
          "base_uri": "https://localhost:8080/"
        },
        "id": "2JmcoHPQA_Nm",
        "outputId": "f567d140-9476-4535-d6c5-3df98bab65b1"
      },
      "execution_count": 15,
      "outputs": [
        {
          "output_type": "execute_result",
          "data": {
            "text/plain": [
              "['php', 'aba', 'radar', 'level']"
            ]
          },
          "metadata": {},
          "execution_count": 15
        }
      ]
    },
    {
      "cell_type": "code",
      "source": [],
      "metadata": {
        "id": "H7hd6UULBmN6"
      },
      "execution_count": null,
      "outputs": []
    }
  ]
}