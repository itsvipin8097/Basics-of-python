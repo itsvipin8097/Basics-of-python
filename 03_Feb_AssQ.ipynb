{
  "nbformat": 4,
  "nbformat_minor": 0,
  "metadata": {
    "colab": {
      "provenance": []
    },
    "kernelspec": {
      "name": "python3",
      "display_name": "Python 3"
    },
    "language_info": {
      "name": "python"
    }
  },
  "cells": [
    {
      "cell_type": "markdown",
      "source": [
        "Q1. Which keyword is used to create a function? Create a function to return a list of odd numbers in the\n",
        "range of 1 to 25."
      ],
      "metadata": {
        "id": "-T5IC4BUCpB9"
      }
    },
    {
      "cell_type": "markdown",
      "source": [
        "Ans: Def keyword is use to creat a  function"
      ],
      "metadata": {
        "id": "Vi0t69CWCwkX"
      }
    },
    {
      "cell_type": "code",
      "source": [
        "def odd_num():\n",
        "  odd=[]\n",
        "  for i in range(1,26):\n",
        "    if i%2==1:\n",
        "      odd.append(i)\n",
        "  return odd"
      ],
      "metadata": {
        "id": "sLWhunwNCu3d"
      },
      "execution_count": null,
      "outputs": []
    },
    {
      "cell_type": "code",
      "source": [
        "odd_num()"
      ],
      "metadata": {
        "colab": {
          "base_uri": "https://localhost:8080/"
        },
        "id": "_aGuQ0kcDSEO",
        "outputId": "a5053adc-7aa4-4890-fe4b-53878e2161b7"
      },
      "execution_count": null,
      "outputs": [
        {
          "output_type": "execute_result",
          "data": {
            "text/plain": [
              "[1, 3, 5, 7, 9, 11, 13, 15, 17, 19, 21, 23, 25]"
            ]
          },
          "metadata": {},
          "execution_count": 2
        }
      ]
    },
    {
      "cell_type": "markdown",
      "source": [
        "Q2. Why *args and **kwargs is used in some functions? Create a function each for *args and **kwargs\n",
        "to demonstrate their use."
      ],
      "metadata": {
        "id": "tokAW8CrDcLJ"
      }
    },
    {
      "cell_type": "markdown",
      "source": [
        "Ans: *args and **kwargs as an argument when we are unsure about the number of arguments to pass in the functions. and **kwargs keyword return a dict\n",
        "*args allows us to pass a variable number of non-keyword arguments to a Python function. In the function, we should use an asterisk (*) before the parameter name to pass a variable number of arguments.\n",
        "**kwargs allows us to pass a variable number of keyword arguments to a Python function. In the function, we use the double-asterisk (**) before the parameter name to denote this type of argument.\n",
        "\n",
        "\n",
        "**kwargs allows us to pass a variable number of keyword arguments to a Python function. In the function, we use the double-asterisk (**) before the parameter name to denote this type of argument.\n",
        "\n",
        "Thus we see that the arguments, in this case, are passed as a dictionary and these arguments make a dictionary inside the function with name same as the parameter excluding **.\n",
        "**bold text** italicized text"
      ],
      "metadata": {
        "id": "h-H3ccGcDx0O"
      }
    },
    {
      "cell_type": "code",
      "source": [
        "def arg(*arg):\n",
        "  return arg\n",
        "\n",
        "\n",
        "arg(12,3,4,'vipin')"
      ],
      "metadata": {
        "colab": {
          "base_uri": "https://localhost:8080/"
        },
        "id": "h34XO37FDZiD",
        "outputId": "1c329388-f717-49db-c0d8-0bf7bfc702ea"
      },
      "execution_count": null,
      "outputs": [
        {
          "output_type": "execute_result",
          "data": {
            "text/plain": [
              "(12, 3, 4, 'vipin')"
            ]
          },
          "metadata": {},
          "execution_count": 4
        }
      ]
    },
    {
      "cell_type": "code",
      "source": [
        "def kwarg(**kwargs):\n",
        "  return kwarg\n",
        "\n",
        "\n"
      ],
      "metadata": {
        "id": "87rFSP5JETa9"
      },
      "execution_count": null,
      "outputs": []
    },
    {
      "cell_type": "code",
      "source": [
        "kwarg(a=[1,2,34],b='vipin',c='yadav')"
      ],
      "metadata": {
        "colab": {
          "base_uri": "https://localhost:8080/"
        },
        "id": "m_cePmZNFLqi",
        "outputId": "9137f6c7-477b-4f9a-b484-8eab2fd29209"
      },
      "execution_count": null,
      "outputs": [
        {
          "output_type": "execute_result",
          "data": {
            "text/plain": [
              "{'a': [1, 2, 34], 'b': 'vipin', 'c': 'yadav'}"
            ]
          },
          "metadata": {},
          "execution_count": 24
        }
      ]
    },
    {
      "cell_type": "markdown",
      "source": [
        "Q3. What is an iterator in python? Name the method used to initialise the iterator object and the method\n",
        "used for iteration. Use these methods to print the first five elements of the given list [2, 4, 6, 8, 10, 12, 14,\n",
        "16, 18, 20]."
      ],
      "metadata": {
        "id": "j6RKxoC4H0wU"
      }
    },
    {
      "cell_type": "markdown",
      "source": [
        "Ans: An iterator in Python is an object that is used to iterate over iterable objects like lists, tuples, dicts, and sets. The Python iterators object is initialized using the iter() method. It uses the next() method for iteration.\n",
        "\n",
        " below is example that demonstrate hoe to print the first 5 element of the given list"
      ],
      "metadata": {
        "id": "ik6P7cG6YsO9"
      }
    },
    {
      "cell_type": "code",
      "source": [
        "a= [2, 4, 6, 8, 10, 12, 14, 16, 18, 20]\n",
        "b= iter(a)\n",
        "for i in range(5):\n",
        "  c=next(b)\n",
        "  print(c)\n"
      ],
      "metadata": {
        "id": "Jtyqsk8KFSBn",
        "colab": {
          "base_uri": "https://localhost:8080/"
        },
        "outputId": "43c9f70f-712c-48b5-836c-499d055f14b8"
      },
      "execution_count": null,
      "outputs": [
        {
          "output_type": "stream",
          "name": "stdout",
          "text": [
            "2\n",
            "4\n",
            "6\n",
            "8\n",
            "10\n"
          ]
        }
      ]
    },
    {
      "cell_type": "markdown",
      "source": [
        "Q5. What is a generator function in python? Why yield keyword is used? Give an example of a generator\n",
        "function."
      ],
      "metadata": {
        "id": "R6TF3_PUZRbT"
      }
    },
    {
      "cell_type": "markdown",
      "source": [
        "Ans: A generator-function is defined like a normal function, but whenever it needs to generate a value, it does so with the yield keyword rather than return. If the body of a def contains yield, the function automatically becomes a generator function."
      ],
      "metadata": {
        "id": "p5rL2hGyZmku"
      }
    },
    {
      "cell_type": "code",
      "source": [
        "\n",
        "# generator to print even numbers\n",
        "def print_even(test_list):\n",
        "    for i in test_list:\n",
        "        if i % 2 == 0:\n",
        "            yield i"
      ],
      "metadata": {
        "id": "vOcvdGBPPdz-"
      },
      "execution_count": null,
      "outputs": []
    },
    {
      "cell_type": "code",
      "source": [
        "list1=[1,2,3,4,5,6,7,8,9,10]\n",
        "for i in print_even(list1):\n",
        "  print(i)"
      ],
      "metadata": {
        "colab": {
          "base_uri": "https://localhost:8080/"
        },
        "id": "Iv2K1RrO2qGT",
        "outputId": "3a926041-d8d7-40c0-eea5-cb699f16d273"
      },
      "execution_count": null,
      "outputs": [
        {
          "output_type": "stream",
          "name": "stdout",
          "text": [
            "2\n",
            "4\n",
            "6\n",
            "8\n",
            "10\n"
          ]
        }
      ]
    },
    {
      "cell_type": "markdown",
      "source": [
        "Q6. Write a python program to print the first 10 Fibonacci numbers using a while loop."
      ],
      "metadata": {
        "id": "X2dMzBiV47qf"
      }
    },
    {
      "cell_type": "code",
      "source": [
        "def fib():\n",
        "  a,b=0,1\n",
        "  while True:\n",
        "    yield a\n",
        "    a,b=b,a+b\n",
        "\n",
        "obj=fib()"
      ],
      "metadata": {
        "id": "kvG1WC3R2tPn"
      },
      "execution_count": 1,
      "outputs": []
    },
    {
      "cell_type": "code",
      "source": [
        "for i in range(10):\n",
        "  print(next(obj))"
      ],
      "metadata": {
        "id": "pKvJumi_S1YY",
        "colab": {
          "base_uri": "https://localhost:8080/"
        },
        "outputId": "ec60df7a-b373-4d33-de8a-01aa86c67184"
      },
      "execution_count": 2,
      "outputs": [
        {
          "output_type": "stream",
          "name": "stdout",
          "text": [
            "0\n",
            "1\n",
            "1\n",
            "2\n",
            "3\n",
            "5\n",
            "8\n",
            "13\n",
            "21\n",
            "34\n"
          ]
        }
      ]
    },
    {
      "cell_type": "markdown",
      "source": [
        "Q.7 Write a List Comprehension to iterate through the given string: ‘pwskills’.\n",
        "Expected output: ['p', 'w', 's', 'k', 'i', 'l', 'l', 's']"
      ],
      "metadata": {
        "id": "8SgMX7grTJ6-"
      }
    },
    {
      "cell_type": "code",
      "source": [
        "A= 'pwskills'\n",
        "B=[]\n",
        "for i in A:\n",
        "  B.append(i)\n",
        "print(B)"
      ],
      "metadata": {
        "colab": {
          "base_uri": "https://localhost:8080/"
        },
        "id": "G6B6RHb6S8mi",
        "outputId": "8ed4021d-c3b9-49bc-a44a-b81387011e27"
      },
      "execution_count": 6,
      "outputs": [
        {
          "output_type": "stream",
          "name": "stdout",
          "text": [
            "['p', 'w', 's', 'k', 'i', 'l', 'l', 's']\n"
          ]
        }
      ]
    },
    {
      "cell_type": "markdown",
      "source": [
        "Q8. Write a python program to check whether a given number is Palindrome or not using a while loop."
      ],
      "metadata": {
        "id": "10nY_EmjT2am"
      }
    },
    {
      "cell_type": "code",
      "source": [
        "n=int(input(\"Enter number:\"))\n",
        "temp=n\n",
        "rev=0\n",
        "while(n>0):\n",
        "    dig=n%10\n",
        "    rev=rev*10+dig\n",
        "    n=n//10\n",
        "if(temp==rev):\n",
        "    print(\"The number is a palindrome!\")\n",
        "else:\n",
        "    print(\"The number isn't a palindrome!\")\n"
      ],
      "metadata": {
        "colab": {
          "base_uri": "https://localhost:8080/"
        },
        "id": "Li7eixLITh47",
        "outputId": "e1049665-43b5-4153-9f8d-6617eb6f034b"
      },
      "execution_count": 34,
      "outputs": [
        {
          "output_type": "stream",
          "name": "stdout",
          "text": [
            "Enter number:121\n",
            "The number is a palindrome!\n"
          ]
        }
      ]
    },
    {
      "cell_type": "code",
      "source": [
        "a=int(input())\n",
        "\n",
        "while a>0:\n",
        "  b=str(a)\n",
        "  if b[::1]==b[::-1]:\n",
        "    print(\"this is pelindrom number\")\n",
        "    break\n",
        "  else:\n",
        "    print(\"this is not pelindrom number\")\n",
        "    break\n"
      ],
      "metadata": {
        "colab": {
          "base_uri": "https://localhost:8080/"
        },
        "id": "tyBUsFH3U2Lq",
        "outputId": "ccc490bd-0a2d-4d37-8f25-9243f150a9ff"
      },
      "execution_count": 35,
      "outputs": [
        {
          "output_type": "stream",
          "name": "stdout",
          "text": [
            "121\n",
            "this is pelindrom number\n"
          ]
        }
      ]
    },
    {
      "cell_type": "markdown",
      "source": [
        "Q9. Q9. Write a code to print odd numbers from 1 to 100 using list comprehension.\n",
        "Note: Use a list comprehension to create a list from 1 to 100 and use another List comprehension to filter\n",
        "out odd numbers."
      ],
      "metadata": {
        "id": "4ijnYAnTZjl8"
      }
    },
    {
      "cell_type": "code",
      "source": [
        "odd_list = [element for element in range(1, 101) if element % 2 == 1 ]\n",
        "print(odd_list)\n",
        "\n"
      ],
      "metadata": {
        "colab": {
          "base_uri": "https://localhost:8080/"
        },
        "id": "eZQWyg5FV2x0",
        "outputId": "6c3bde94-cd92-4225-ffd8-99c30252dd88"
      },
      "execution_count": 45,
      "outputs": [
        {
          "output_type": "stream",
          "name": "stdout",
          "text": [
            "[1, 3, 5, 7, 9, 11, 13, 15, 17, 19, 21, 23, 25, 27, 29, 31, 33, 35, 37, 39, 41, 43, 45, 47, 49, 51, 53, 55, 57, 59, 61, 63, 65, 67, 69, 71, 73, 75, 77, 79, 81, 83, 85, 87, 89, 91, 93, 95, 97, 99]\n"
          ]
        }
      ]
    },
    {
      "cell_type": "code",
      "source": [
        "\n"
      ],
      "metadata": {
        "id": "w-Z8EVg6V4uq"
      },
      "execution_count": 33,
      "outputs": []
    },
    {
      "cell_type": "code",
      "source": [],
      "metadata": {
        "id": "RdPN7y8wWHP8"
      },
      "execution_count": 27,
      "outputs": []
    },
    {
      "cell_type": "code",
      "source": [],
      "metadata": {
        "id": "GxU9fvYEWV6f"
      },
      "execution_count": 19,
      "outputs": []
    },
    {
      "cell_type": "code",
      "source": [],
      "metadata": {
        "id": "YhOWhlSfWj08"
      },
      "execution_count": null,
      "outputs": []
    }
  ]
}