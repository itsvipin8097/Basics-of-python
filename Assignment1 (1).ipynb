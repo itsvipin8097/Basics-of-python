{
  "nbformat": 4,
  "nbformat_minor": 0,
  "metadata": {
    "colab": {
      "provenance": []
    },
    "kernelspec": {
      "name": "python3",
      "display_name": "Python 3"
    },
    "language_info": {
      "name": "python"
    }
  },
  "cells": [
    {
      "cell_type": "code",
      "execution_count": 1,
      "metadata": {
        "id": "t9tDARexDLwj"
      },
      "outputs": [],
      "source": [
        "# creating variable containing following data types\n",
        "A='VIPI',[1,2,3],23.33,(23,4,45,67)"
      ]
    },
    {
      "cell_type": "code",
      "source": [
        "A"
      ],
      "metadata": {
        "id": "qf3Q3I3uDome",
        "colab": {
          "base_uri": "https://localhost:8080/"
        },
        "outputId": "4f1ec65d-9ae1-4b0c-c703-2ae83247dcea"
      },
      "execution_count": 2,
      "outputs": [
        {
          "output_type": "execute_result",
          "data": {
            "text/plain": [
              "('VIPI', [1, 2, 3], 23.33, (23, 4, 45, 67))"
            ]
          },
          "metadata": {},
          "execution_count": 2
        }
      ]
    },
    {
      "cell_type": "code",
      "source": [
        "# 2. check data type of following variable\n",
        "var1=''\n",
        "var2='[Ds,ML,Python]'\n",
        "var3=['DS','ML','Python']\n",
        "var4=1.0\n",
        "\n",
        "print(type(var1))\n",
        "print(type(var2))\n",
        "print(type(var3))\n",
        "print(type(var4))"
      ],
      "metadata": {
        "id": "hh8EPGsADsfO",
        "colab": {
          "base_uri": "https://localhost:8080/"
        },
        "outputId": "666adac4-ae27-420e-cdc8-ddb1d2461275"
      },
      "execution_count": 3,
      "outputs": [
        {
          "output_type": "stream",
          "name": "stdout",
          "text": [
            "<class 'str'>\n",
            "<class 'str'>\n",
            "<class 'list'>\n",
            "<class 'float'>\n"
          ]
        }
      ]
    },
    {
      "cell_type": "code",
      "source": [
        "# / -- This is type of airthmatic operator which use for divsion.\n",
        "\n",
        "a=10/2\n",
        "\n",
        "print(a)\n",
        "\n",
        "# % -- an inbuilt operator that returns the remaining numbers by dividing the first number from the second.\n",
        "\n",
        "b=10%2\n",
        "\n",
        "print(b)\n",
        "\n",
        "# // -- an inbuilt floor operator this operator will divide the first argument by the second and round the result.\n",
        "\n",
        "c=10//2\n",
        "\n",
        "print(c)\n",
        "\n",
        "# ** -- an inbuilt power operator The operator that can be used to perform the exponent arithmetic in Python is ** Given two real number operands, one on each side of the operator, it performs the exponential calculation ( 3**3 translates to 3*3*3).\n",
        "\n",
        "d=3**3\n",
        "\n",
        "print(d)"
      ],
      "metadata": {
        "id": "br8AIAYBEW0P",
        "colab": {
          "base_uri": "https://localhost:8080/"
        },
        "outputId": "53199db7-8951-4542-a864-3096c57a183e"
      },
      "execution_count": 4,
      "outputs": [
        {
          "output_type": "stream",
          "name": "stdout",
          "text": [
            "5.0\n",
            "0\n",
            "5\n",
            "27\n"
          ]
        }
      ]
    },
    {
      "cell_type": "code",
      "source": [
        "# creat a list of lenght of 10 of your choice containing multiple types of data  using for loop print the elements and its data types\n",
        "\n",
        "List1=[1,2,'vip',True,1.00,[2,3,4],False,(1,23,4),23,45]\n",
        "\n",
        "for i in List1:\n",
        "  print(i,type(i))"
      ],
      "metadata": {
        "id": "3HrQ81TAE8BB",
        "colab": {
          "base_uri": "https://localhost:8080/"
        },
        "outputId": "50569a4d-b10a-4b8f-aed5-2b63b2db0ad4"
      },
      "execution_count": 5,
      "outputs": [
        {
          "output_type": "stream",
          "name": "stdout",
          "text": [
            "1 <class 'int'>\n",
            "2 <class 'int'>\n",
            "vip <class 'str'>\n",
            "True <class 'bool'>\n",
            "1.0 <class 'float'>\n",
            "[2, 3, 4] <class 'list'>\n",
            "False <class 'bool'>\n",
            "(1, 23, 4) <class 'tuple'>\n",
            "23 <class 'int'>\n",
            "45 <class 'int'>\n"
          ]
        }
      ]
    },
    {
      "cell_type": "code",
      "source": [
        "for i in range(1,26):\n",
        "  if i%3==0:\n",
        "    print(i)"
      ],
      "metadata": {
        "id": "JcNtOQ2ZIxSE"
      },
      "execution_count": null,
      "outputs": []
    },
    {
      "cell_type": "code",
      "source": [
        "# using while loop, verify if the number is purely divisible by number b and if so then how many times it can be divisible.\n",
        "\n",
        "a= 32\n",
        "b= 2\n",
        "count=0\n",
        "\n",
        "while a%b==0:\n",
        "  count+=1\n",
        "  a=a//b\n",
        "print(count)\n",
        "\n"
      ],
      "metadata": {
        "id": "DTdXCrnbHV01",
        "colab": {
          "base_uri": "https://localhost:8080/"
        },
        "outputId": "5377f0c6-bec9-4405-ca27-efddd6854e98"
      },
      "execution_count": 24,
      "outputs": [
        {
          "output_type": "stream",
          "name": "stdout",
          "text": [
            "5\n"
          ]
        }
      ]
    },
    {
      "cell_type": "code",
      "source": [],
      "metadata": {
        "id": "9eoEtmbzL349"
      },
      "execution_count": 24,
      "outputs": []
    },
    {
      "cell_type": "markdown",
      "source": [
        "**Immutable refers to a state in which no change can occur over time. A Python object is referred to as immutable if we cannot change its value over time. The value of these Python objects is fixed once they are made.**\n",
        "\n",
        "**Anything is said to be mutable when anything can be modified or changed. The term \"mutable\" in Python refers to an object's capacity to modify its values. These are frequently the things that hold a data collection.**\n",
        "\n",
        "1. List of Mutable and Immutable objects\n",
        "Python mutable data types:\n",
        "\n",
        "Lists,\n",
        "Dictionaries,\n",
        "Sets,\n",
        "User-Defined Classes (It depends on the user to define the characteristics of the classes)\n",
        "\n",
        "\n",
        "2. Python immutable data types:\n",
        "\n",
        "Numbers (Integer, Float, Complex, Decimal, Rational & Booleans),\n",
        "Tuples,\n",
        "Strings,\n",
        "Frozen Sets"
      ],
      "metadata": {
        "id": "PFRzw-uiX1Ne"
      }
    },
    {
      "cell_type": "code",
      "source": [
        "# example to demonstrate \n",
        "# list is a mutable data type in python\n",
        "\n",
        "# our current list\n",
        "var1 = [1,2,6,5,7,11]\n",
        "\n",
        "# adding an element in our list\n",
        "var1.append(16)\n",
        "# printing our list after the operation\n",
        "print(\"list after adding a value : \",var1)\n",
        "\n",
        "# adding multiple elements in our list\n",
        "# multiple elements (such as a list) can be added using update\n",
        "var1[3]=([9,78,100])\n",
        "# printing our list after the operation\n",
        "print(\"list after updating some values : \",var1)\n",
        "\n",
        "# removing element from our list\n",
        "var1.remove(2)\n",
        "# printing our set after the operation\n",
        "print(\"list after removing a value : \",var1)\n",
        "\n"
      ],
      "metadata": {
        "colab": {
          "base_uri": "https://localhost:8080/"
        },
        "id": "yaBx-TzjVpgu",
        "outputId": "26e601e8-b37d-4b88-bc55-f9ed1b17a427"
      },
      "execution_count": 27,
      "outputs": [
        {
          "output_type": "stream",
          "name": "stdout",
          "text": [
            "list after adding a value :  [1, 2, 6, 5, 7, 11, 16]\n",
            "list after updating some values :  [1, 2, 6, [9, 78, 100], 7, 11, 16]\n",
            "list after removing a value :  [1, 6, [9, 78, 100], 7, 11, 16]\n"
          ]
        }
      ]
    },
    {
      "cell_type": "code",
      "source": [
        "# here we willtry to update string value with index number we will face error 'str' object does not support item assignment\n",
        "\n",
        "a=\"shyam\"\n",
        "a[2]='e'\n",
        "\n",
        "#tuples are also immutable we can fetch elements with indexing number but we cant update or delete in tuples\n",
        "b=(1,2,3,4)\n",
        "\n",
        "b.append(33)\n"
      ],
      "metadata": {
        "colab": {
          "base_uri": "https://localhost:8080/",
          "height": 235
        },
        "id": "rmS6v7ZEZXLC",
        "outputId": "24d75db5-4f89-4464-ec15-e7bdd3129a07"
      },
      "execution_count": 29,
      "outputs": [
        {
          "output_type": "error",
          "ename": "TypeError",
          "evalue": "ignored",
          "traceback": [
            "\u001b[0;31m---------------------------------------------------------------------------\u001b[0m",
            "\u001b[0;31mTypeError\u001b[0m                                 Traceback (most recent call last)",
            "\u001b[0;32m<ipython-input-29-cb3fd8406f36>\u001b[0m in \u001b[0;36m<cell line: 4>\u001b[0;34m()\u001b[0m\n\u001b[1;32m      2\u001b[0m \u001b[0;34m\u001b[0m\u001b[0m\n\u001b[1;32m      3\u001b[0m \u001b[0ma\u001b[0m\u001b[0;34m=\u001b[0m\u001b[0;34m\"shyam\"\u001b[0m\u001b[0;34m\u001b[0m\u001b[0;34m\u001b[0m\u001b[0m\n\u001b[0;32m----> 4\u001b[0;31m \u001b[0ma\u001b[0m\u001b[0;34m[\u001b[0m\u001b[0;36m2\u001b[0m\u001b[0;34m]\u001b[0m\u001b[0;34m=\u001b[0m\u001b[0;34m'e'\u001b[0m\u001b[0;34m\u001b[0m\u001b[0;34m\u001b[0m\u001b[0m\n\u001b[0m\u001b[1;32m      5\u001b[0m \u001b[0;34m\u001b[0m\u001b[0m\n\u001b[1;32m      6\u001b[0m \u001b[0;31m#tuples are also immutable we can fetch elements with indexing number but we cant update or delete in tuples\u001b[0m\u001b[0;34m\u001b[0m\u001b[0;34m\u001b[0m\u001b[0m\n",
            "\u001b[0;31mTypeError\u001b[0m: 'str' object does not support item assignment"
          ]
        }
      ]
    },
    {
      "cell_type": "code",
      "source": [],
      "metadata": {
        "id": "63sZJ3tQaPbm"
      },
      "execution_count": null,
      "outputs": []
    }
  ]
}