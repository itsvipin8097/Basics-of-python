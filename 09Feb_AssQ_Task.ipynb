{
  "nbformat": 4,
  "nbformat_minor": 0,
  "metadata": {
    "colab": {
      "provenance": []
    },
    "kernelspec": {
      "name": "python3",
      "display_name": "Python 3"
    },
    "language_info": {
      "name": "python"
    }
  },
  "cells": [
    {
      "cell_type": "code",
      "execution_count": 2,
      "metadata": {
        "id": "u_AYbzMAg_xU"
      },
      "outputs": [],
      "source": [
        "#Q1. Create a vehicle class with an init method having instance variables as name_of_vehicle, max_speed and average_of_vehicle."
      ]
    },
    {
      "cell_type": "code",
      "source": [
        "class Vehicle:\n",
        "    def __init__(self, name_of_vehicle, max_speed, average_of_vehicle):\n",
        "        self.name_of_vehicle = name_of_vehicle\n",
        "        self.max_speed = max_speed\n",
        "        self.average_of_vehicle = average_of_vehicle\n"
      ],
      "metadata": {
        "id": "G_yz4GcAhd5O"
      },
      "execution_count": 17,
      "outputs": []
    },
    {
      "cell_type": "code",
      "source": [
        "car = Vehicle(\"BMW\", 500, 60)\n",
        "print(car.name_of_vehicle)\n",
        "print(car.max_speed)\n",
        "print(car.average_of_vehicle)\n",
        "\n",
        "\n"
      ],
      "metadata": {
        "colab": {
          "base_uri": "https://localhost:8080/"
        },
        "id": "V_nZY4EWhvld",
        "outputId": "3ac753c4-942f-47a3-95ca-a1c0c1c3e3a3"
      },
      "execution_count": 34,
      "outputs": [
        {
          "output_type": "stream",
          "name": "stdout",
          "text": [
            "BMW\n",
            "500\n",
            "60\n"
          ]
        }
      ]
    },
    {
      "cell_type": "code",
      "source": [
        "'''Q2. Create a child class car from the vehicle class created in Que 1, which will inherit the vehicle class.\n",
        "Create a method named seating_capacity which takes capacity as an argument and returns the name of\n",
        "the vehicle and its seating capacity.'''"
      ],
      "metadata": {
        "colab": {
          "base_uri": "https://localhost:8080/",
          "height": 53
        },
        "id": "ygPwHFYYipSs",
        "outputId": "1dc8bae8-7c83-4830-8bf7-1ecaf13a6f72"
      },
      "execution_count": 7,
      "outputs": [
        {
          "output_type": "execute_result",
          "data": {
            "text/plain": [
              "'Create a child class car from the vehicle class created in Que 1, which will inherit the vehicle class.\\nCreate a method named seating_capacity which takes capacity as an argument and returns the name of\\nthe vehicle and its seating capacity.'"
            ],
            "application/vnd.google.colaboratory.intrinsic+json": {
              "type": "string"
            }
          },
          "metadata": {},
          "execution_count": 7
        }
      ]
    },
    {
      "cell_type": "code",
      "source": [
        "class Car(Vehicle):\n",
        "    def seating_capacity(self, capacity):\n",
        "        return f\"{self.name_of_vehicle} has a seating capacity of {capacity} people.\"\n",
        "\n"
      ],
      "metadata": {
        "id": "_1AaFPBch6C3"
      },
      "execution_count": 41,
      "outputs": []
    },
    {
      "cell_type": "code",
      "source": [
        "car = Car(\"BMW\", 500, 60)\n",
        "print(car.seating_capacity(5))\n",
        "\n",
        "\n"
      ],
      "metadata": {
        "colab": {
          "base_uri": "https://localhost:8080/"
        },
        "id": "gHg7cos8jJ3s",
        "outputId": "cfff148e-f263-4d95-c294-4b3449cbb94f"
      },
      "execution_count": 48,
      "outputs": [
        {
          "output_type": "stream",
          "name": "stdout",
          "text": [
            "BMW has a seating capacity of 5 people.\n"
          ]
        }
      ]
    },
    {
      "cell_type": "code",
      "source": [],
      "metadata": {
        "id": "-iguXfA6jXAB"
      },
      "execution_count": 48,
      "outputs": []
    },
    {
      "cell_type": "code",
      "source": [
        "#What is multiple inheritance? Write a python code to demonstrate multiple inheritance.\n",
        "\n"
      ],
      "metadata": {
        "id": "E4kL1IYsmp_s"
      },
      "execution_count": null,
      "outputs": []
    },
    {
      "cell_type": "markdown",
      "source": [
        "Multiple inheritance is a feature in object-oriented programming languages where a class can inherit attributes and methods from more than one parent class. This allows the derived class to inherit and combine the characteristics of multiple base classes.\n",
        "\n",
        "In Python, multiple inheritance is supported by specifying multiple base classes in the class definition. The derived class can access the attributes and methods from all of its parent classes.\n",
        "\n",
        "Here's an example code to demonstrate multiple inheritance in Python:"
      ],
      "metadata": {
        "id": "cgN5kvl-oxrw"
      }
    },
    {
      "cell_type": "code",
      "source": [
        "class Animal:\n",
        "    def __init__(self, name):\n",
        "        self.name = name\n",
        "\n",
        "    def speak(self):\n",
        "        pass\n",
        "\n",
        "\n",
        "class Mammal(Animal):\n",
        "    def __init__(self, name):\n",
        "        super().__init__(name)\n",
        "\n",
        "    def speak(self):\n",
        "        return \"Mammal sound!\"\n",
        "\n",
        "\n",
        "class Flyer(Animal):\n",
        "    def __init__(self, name):\n",
        "        super().__init__(name)\n",
        "\n",
        "    def speak(self):\n",
        "        return \"Flyer sound!\"\n",
        "\n",
        "\n",
        "class Bat(Mammal, Flyer):\n",
        "    def __init__(self, name):\n",
        "        super().__init__(name)\n",
        "\n",
        "\n",
        "bat = Bat(\"Bobby\")\n",
        "print(bat.name)  # Output: Bobby\n",
        "print(bat.speak())  # Output: Mammal sound!\n"
      ],
      "metadata": {
        "colab": {
          "base_uri": "https://localhost:8080/"
        },
        "id": "-wHrRsvzoyeD",
        "outputId": "767e6ad9-ff3a-4d64-93e1-d62e002d5e8b"
      },
      "execution_count": 49,
      "outputs": [
        {
          "output_type": "stream",
          "name": "stdout",
          "text": [
            "Bobby\n",
            "Mammal sound!\n"
          ]
        }
      ]
    },
    {
      "cell_type": "code",
      "source": [
        "# What are getter and setter in python? Create a class and create a getter and a setter method in this class."
      ],
      "metadata": {
        "id": "8biN-Ad_o059"
      },
      "execution_count": null,
      "outputs": []
    },
    {
      "cell_type": "markdown",
      "source": [
        "\n",
        "In Python, getter and setter methods are used to control access to class attributes or properties. They provide a way to get and set the values of private or protected attributes, allowing you to encapsulate the data and define custom logic for accessing or modifying it.\n"
      ],
      "metadata": {
        "id": "FVa1CRfOpNUu"
      }
    },
    {
      "cell_type": "markdown",
      "source": [
        "In this example, the Person class has two attributes, _name and _age, which are marked as protected by prefixing them with an underscore. The class provides getter and setter methods for each attribute, allowing controlled access to the attributes. The setter methods include validation logic to ensure that the values being set are valid.\n",
        "\n",
        "By using getter and setter methods, you can enforce encapsulation and maintain control over how the attributes are accessed and modified."
      ],
      "metadata": {
        "id": "FDqxLh9RpeUX"
      }
    },
    {
      "cell_type": "code",
      "source": [
        "class Person:\n",
        "    def __init__(self, name, age):\n",
        "        self._name = name  # protected attribute\n",
        "        self._age = age    # protected attribute\n",
        "\n",
        "    # Getter method for the name attribute\n",
        "    def get_name(self):\n",
        "        return self._name\n",
        "\n",
        "    # Setter method for the name attribute\n",
        "    def set_name(self, name):\n",
        "        self._name = name\n",
        "\n",
        "    # Getter method for the age attribute\n",
        "    def get_age(self):\n",
        "        return self._age\n",
        "\n",
        "    # Setter method for the age attribute\n",
        "    def set_age(self, age):\n",
        "        if age >= 0:\n",
        "            self._age = age\n",
        "        else:\n",
        "            print(\"Age cannot be negative.\")\n",
        "\n",
        "# Creating an instance of the Person class\n",
        "person = Person(\"Alice\", 25)\n",
        "\n",
        "# Using the getter methods\n",
        "print(person.get_name())  # Output: Alice\n",
        "print(person.get_age())   # Output: 25\n",
        "\n",
        "# Using the setter methods\n",
        "person.set_name(\"Bob\")\n",
        "person.set_age(30)\n",
        "\n",
        "print(person.get_name())  # Output: Bob\n",
        "print(person.get_age())   # Output: 30\n",
        "\n",
        "# Trying to set an invalid age\n",
        "person.set_age(-5)        # Output: Age cannot be negative.\n",
        "print(person.get_age())   # Output: 30 (age remains unchanged)\n"
      ],
      "metadata": {
        "colab": {
          "base_uri": "https://localhost:8080/"
        },
        "id": "ijxVjG3spN4B",
        "outputId": "a4c23eea-d2b7-4e28-cee8-d43cba8bc211"
      },
      "execution_count": 50,
      "outputs": [
        {
          "output_type": "stream",
          "name": "stdout",
          "text": [
            "Alice\n",
            "25\n",
            "Bob\n",
            "30\n",
            "Age cannot be negative.\n",
            "30\n"
          ]
        }
      ]
    },
    {
      "cell_type": "markdown",
      "source": [
        "Q5.What is method overriding in python? Write a python code to demonstrate method overriding."
      ],
      "metadata": {
        "id": "sF1m7_W6pbKV"
      }
    },
    {
      "cell_type": "markdown",
      "source": [
        "Method overriding is a concept in object-oriented programming where a subclass provides its own implementation of a method that is already defined in its superclass. The overridden method in the subclass has the same name, return type, and parameters as the method in the superclass, but it provides a different implementation.\n"
      ],
      "metadata": {
        "id": "DzxZZ1lKpv75"
      }
    },
    {
      "cell_type": "markdown",
      "source": [
        "In this example, we have a base class called Shape that defines a method named area(). The Shape class provides a generic implementation of calculating the area of a shape, which prints a message.\n",
        "\n",
        "We also have two subclasses, Rectangle and Circle, that inherit from the Shape class. Both subclasses override the area() method with their own implementation to calculate the area specific to their shape.\n",
        "\n",
        "When we create instances of the classes and call the area() method on them, Python dynamically dispatches the method call based on the actual type of the object. This means that when shape.area() is called, it executes the implementation in the Shape class. But when rectangle.area() is called, it executes the overridden implementation in the Rectangle class, and when circle.area() is called, it executes the overridden implementation in the Circle class.\n",
        "\n",
        "Method overriding allows subclasses to provide specialized behavior while still retaining the common interface defined in the superclass."
      ],
      "metadata": {
        "id": "hBtCVyg0p0rY"
      }
    },
    {
      "cell_type": "code",
      "source": [
        "class Shape:\n",
        "    def area(self):\n",
        "        print(\"Calculating area of the shape.\")\n",
        "\n",
        "class Rectangle(Shape):\n",
        "    def area(self):\n",
        "        length = 5\n",
        "        width = 3\n",
        "        area = length * width\n",
        "        print(f\"The area of the rectangle is: {area}\")\n",
        "\n",
        "class Circle(Shape):\n",
        "    def area(self):\n",
        "        radius = 4\n",
        "        area = 3.14 * (radius ** 2)\n",
        "        print(f\"The area of the circle is: {area}\")\n",
        "\n",
        "# Creating instances of the classes\n",
        "shape = Shape()\n",
        "rectangle = Rectangle()\n",
        "circle = Circle()\n",
        "\n",
        "# Calling the area method on the instances\n",
        "shape.area()\n",
        "rectangle.area()\n",
        "circle.area()\n"
      ],
      "metadata": {
        "colab": {
          "base_uri": "https://localhost:8080/"
        },
        "id": "pSzx6ZmMpQJp",
        "outputId": "abe06a64-e458-4a9e-d219-8ca5481f51d4"
      },
      "execution_count": 52,
      "outputs": [
        {
          "output_type": "stream",
          "name": "stdout",
          "text": [
            "Calculating area of the shape.\n",
            "The area of the rectangle is: 15\n",
            "The area of the circle is: 50.24\n"
          ]
        }
      ]
    },
    {
      "cell_type": "code",
      "source": [],
      "metadata": {
        "id": "uLMwpb8Dp3l3"
      },
      "execution_count": null,
      "outputs": []
    }
  ]
}